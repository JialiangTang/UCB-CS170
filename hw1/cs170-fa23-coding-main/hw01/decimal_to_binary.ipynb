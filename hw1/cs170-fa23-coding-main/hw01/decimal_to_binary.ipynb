{
 "cells": [
  {
   "cell_type": "code",
   "execution_count": null,
   "metadata": {
    "deletable": false,
    "editable": false
   },
   "outputs": [],
   "source": [
    "# Initialize Otter\n",
    "import otter\n",
    "grader = otter.Notebook(\"decimal_to_binary.ipynb\")"
   ]
  },
  {
   "cell_type": "code",
   "execution_count": null,
   "metadata": {},
   "outputs": [],
   "source": [
    "# version shenanigans\n",
    "!pip install -r requirements.txt --quiet\n",
    "import otter\n",
    "grader = otter.Notebook(\"decimal_to_binary.ipynb\")\n",
    "assert otter.__version__ >= \"4.2.0\", \"Please restart your kernel.\""
   ]
  },
  {
   "attachments": {},
   "cell_type": "markdown",
   "metadata": {},
   "source": [
    "# Preface: Local Setup\n",
    "### First-time setup\n",
    "* Install Anaconda following the instructions here: https://www.anaconda.com/products/distribution \n",
    "* Create a conda environment: `conda create -n cs170 python=3.8`\n",
    "* Activate the environment: `conda activate cs170`\n",
    "    * See for more details on creating conda environments https://conda.io/projects/conda/en/latest/user-guide/tasks/manage-environments.html\n",
    "* Install pip: `conda install pip`\n",
    "* Install jupyter: `conda install jupyter`\n",
    "\n",
    "### When doing each assignment\n",
    "* Make sure you've activated the conda environment: `conda create -n cs170 python=3.8`\n",
    "* Navigate into your HW directory\n",
    "* Install all requirements for that assignment: `pip install -r requirements.txt`\n",
    "* Launch jupyter: `jupyter lab`"
   ]
  },
  {
   "attachments": {},
   "cell_type": "markdown",
   "metadata": {},
   "source": [
    "# Decimal to Binary (Coding Portion)\n",
    "In the written homework, you've described a divide-and-conquer algorithm to convert decimal to binary. Here, you will implement the divide-and-conquer algorithm in Python."
   ]
  },
  {
   "attachments": {},
   "cell_type": "markdown",
   "metadata": {},
   "source": [
    "Feel free to use the following helper functions to do binary arithmetic in your solution."
   ]
  },
  {
   "cell_type": "code",
   "execution_count": null,
   "metadata": {},
   "outputs": [],
   "source": [
    "def digit_to_binary(digit):\n",
    "    \"\"\"Converts a single digit (or the number 10) in decimal form to binary.\n",
    "\n",
    "    Args:\n",
    "        digit (str): a single digit (or the number 10) in decimal form\n",
    "\n",
    "    Returns:\n",
    "        str: bitstring corresponding to the binary representation of the digit\n",
    "    \"\"\"\n",
    "    conversion_table = {\n",
    "        '0': '0',\n",
    "        '1': '1',\n",
    "        '2': '10',\n",
    "        '3': '11',\n",
    "        '4': '100',\n",
    "        '5': '101',\n",
    "        '6': '110',\n",
    "        '7': '111',\n",
    "        '8': '1000',\n",
    "        '9': '1001',\n",
    "        '10': '1010',\n",
    "    }\n",
    "    return conversion_table[digit]\n",
    "    \n",
    "def add_binary(a, b):\n",
    "    \"\"\"Adds two binary numbers.\n",
    "\n",
    "    Args:\n",
    "        a (str): bitstring representing the first number to add\n",
    "        b (str): bitstring representing the second number to add\n",
    "\n",
    "    Returns:\n",
    "        str: the sum of the two numbers in binary form\n",
    "\n",
    "    >>> add_binary('101', '11')\n",
    "    '1000'\n",
    "    \"\"\"\n",
    "    if not (a and b):\n",
    "        return a or b or '0'\n",
    "    out = ''\n",
    "    carry = '0'\n",
    "    for d1, d2 in zip(a[::-1], b[::-1]):\n",
    "        # case 1: 0 + 0\n",
    "        if d1 == '0' and d2 == '0':\n",
    "            out += carry\n",
    "            carry = '0'\n",
    "        # case 2: 1 + 1\n",
    "        elif d1 == '1' and d2 == '1':\n",
    "            out += carry\n",
    "            carry = '1'\n",
    "        # case 3: 0 + 1 or 1 + 0\n",
    "        else:\n",
    "            if carry == '0':\n",
    "                out += '1'\n",
    "            else:\n",
    "                out += '0'\n",
    "\n",
    "    remaining_bits = a[:-len(out)] or b[:-len(out)]\n",
    "    if carry == '0':\n",
    "        return remaining_bits + out[::-1]\n",
    "    return (add_binary(remaining_bits, carry) + out[::-1]).lstrip('0') or '0'\n",
    "\n",
    "def sub_binary(a, b):\n",
    "    \"\"\"Subtracts two binary numbers. Since we are dealing with unsigned \n",
    "    binary numbers, we assume that a >= b.\n",
    "\n",
    "    Args:\n",
    "        a (str): bitstring representing the first number to subtract\n",
    "        b (str): bitstring representing the second number to subtract\n",
    "\n",
    "    Returns:\n",
    "        str: Returns the difference between the two numbers, a - b, \n",
    "            in binary form.\n",
    "\n",
    "    >>> sub_binary('101', '11')\n",
    "    '10'\n",
    "    \"\"\"\n",
    "    if not b:\n",
    "        return a or '0'\n",
    "    assert int(a) >= int(b), 'a must be at least as large as b'\n",
    "    out = ''\n",
    "    for i in range(1, 1 + min(len(a), len(b))):\n",
    "        # case 1: 0 - 0 or 1 - 1\n",
    "        if a[-i] == b[-i]:\n",
    "            out += '0'\n",
    "        # case 2: 1 - 0\n",
    "        elif a[-i] == '1' and b[-i] == '0':\n",
    "            out += '1'\n",
    "        # case 3: 0 - 1\n",
    "        elif a[-i] == '0' and b[-i] == '1':\n",
    "            out += '1'\n",
    "            a = sub_binary(a, '1' + '0'*(i))\n",
    "\n",
    "    remaining_bits = a[:-len(out)]\n",
    "    return (remaining_bits + out[::-1]).lstrip('0') or '0'\n",
    "\n",
    "def mul_binary(a, b):\n",
    "    \"\"\"Fast multiplication on two binary numbers using Karatsuba's \n",
    "        algorithm.\n",
    "\n",
    "    Args:\n",
    "        a (str): bitstring representing the first number to multiply\n",
    "        b (str): bitstring representing the second number to multiply\n",
    "\n",
    "    Returns:\n",
    "        str: the product of the two numbers in binary form\n",
    "\n",
    "    >>> mul_binary('101', '11')\n",
    "    '1111'\n",
    "    \"\"\"\n",
    "    n = max(len(a), len(b))\n",
    "    x = '0'*(n-len(a)) + a\n",
    "    y = '0'*(n-len(b)) + b\n",
    "    \n",
    "    if n == 1 and x == y == '1':\n",
    "        return '1'\n",
    "    elif n == 1:\n",
    "        return '0'\n",
    "    \n",
    "    xlo = x[n//2:]\n",
    "    xhi = x[:n//2]\n",
    "    ylo = y[n//2:]\n",
    "    yhi = y[:n//2]\n",
    "    \n",
    "    A = mul_binary(xhi, yhi)\n",
    "    B = mul_binary(xlo, ylo)\n",
    "    E = mul_binary(add_binary(xlo, xhi), add_binary(ylo, yhi))\n",
    "    \n",
    "    result = A + '0'*(2*len(xlo))\n",
    "    result = add_binary(result, sub_binary(E, add_binary(A, B))+'0'*len(xlo))\n",
    "    result = add_binary(result, B)\n",
    "    \n",
    "    return result.lstrip('0') or '0'"
   ]
  },
  {
   "cell_type": "code",
   "execution_count": null,
   "metadata": {
    "tags": []
   },
   "outputs": [],
   "source": [
    "def decimal_to_binary(decimal):\n",
    "    \"\"\"\n",
    "    args:\n",
    "        decimal:string = decimal representation of a number, passed \n",
    "            as a string\n",
    "    returns:\n",
    "        A string representing the binary representation of the number\n",
    "    \"\"\"\n",
    "    if len(decimal) == 1 or decimal == '10':\n",
    "        #print(digit_to_binary(decimal))\n",
    "        return digit_to_binary(decimal)\n",
    "    if decimal == '100':\n",
    "        return '1100100'\n",
    "    n = len(decimal)\n",
    "\n",
    "    n1 = decimal[:n//2] #higher\n",
    "    n2 = decimal[n//2:] #lower\n",
    "    if n%2==0:\n",
    "        const = str(10**(n//2))\n",
    "    else:\n",
    "        const = str(10**(n//2+1))\n",
    "    n1_b = decimal_to_binary(n1)\n",
    "    # print(const)\n",
    "    const_b = decimal_to_binary(const)\n",
    "    n2_b = decimal_to_binary(n2)\n",
    "    # print(n1_b)\n",
    "\n",
    "    hi_b = mul_binary(n1_b, const_b)\n",
    "    lo_b = n2_b\n",
    "    #print(hi_b)\n",
    "    #print(lo_b)\n",
    "    res = add_binary(hi_b, lo_b)\n",
    "    #print(res)\n",
    "    return res\n",
    "\n",
    "        "
   ]
  },
  {
   "cell_type": "code",
   "execution_count": null,
   "metadata": {
    "deletable": false,
    "editable": false
   },
   "outputs": [],
   "source": [
    "grader.check(\"q1\")"
   ]
  },
  {
   "cell_type": "markdown",
   "metadata": {
    "deletable": false,
    "editable": false
   },
   "source": [
    "## Submission\n",
    "\n",
    "Make sure you have run all cells in your notebook in order before running the cell below, so that all images/graphs appear in the output. The cell below will generate a zip file for you to submit."
   ]
  },
  {
   "cell_type": "code",
   "execution_count": null,
   "metadata": {
    "deletable": false,
    "editable": false
   },
   "outputs": [],
   "source": [
    "grader.export(pdf=False, force_save=True, run_tests=True)"
   ]
  },
  {
   "cell_type": "markdown",
   "metadata": {},
   "source": [
    " "
   ]
  }
 ],
 "metadata": {
  "kernelspec": {
   "display_name": "Python 3",
   "language": "python",
   "name": "python3"
  },
  "language_info": {
   "codemirror_mode": {
    "name": "ipython",
    "version": 3
   },
   "file_extension": ".py",
   "mimetype": "text/x-python",
   "name": "python",
   "nbconvert_exporter": "python",
   "pygments_lexer": "ipython3",
   "version": "3.8.11"
  },
  "otter": {
   "OK_FORMAT": false,
   "assignment_name": "decimal_to_binary",
   "tests": {
    "q1": "from otter.test_files import test_case\n\nOK_FORMAT = False\n\nname = \"q1\"\npoints = 3\n\n@test_case(points=None, hidden=False)\ndef test_q1(decimal_to_binary):\n    import ast\n    import inspect\n    import random\n    import tqdm\n\n    calls_bin = (\"Call(func=Name(id='bin'\" in ast.dump(ast.parse(inspect.getsource(decimal_to_binary))))\n    assert not calls_bin, 'You cannot use the built-in bin function in your solution.'\n\n    for i in tqdm.trange(50):\n        # generate a random (potentially huge) number\n        # ensure that there are no leading zeros\n        digits = ['0', '1', '2', '3', '4', '5', '6', '7', '8', '9']\n        decimal = random.choice(digits) + ''.join(random.choices(digits, k=i-1))\n\n        student = decimal_to_binary(decimal)\n\n        # check that the answer is correct\n        staff = bin(int(decimal))[2:]\n        assert student == staff, f'For number {decimal}: expected: {staff} but got: {student}'\n\n"
   }
  }
 },
 "nbformat": 4,
 "nbformat_minor": 2
}
